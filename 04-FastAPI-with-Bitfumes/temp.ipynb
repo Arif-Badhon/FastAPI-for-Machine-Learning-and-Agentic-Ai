{
 "cells": [
  {
   "cell_type": "code",
   "execution_count": 1,
   "id": "e965b740",
   "metadata": {},
   "outputs": [],
   "source": [
    "data = {}\n",
    "for i in range(10):\n",
    "    data[i] = f\"This is blog {i}\""
   ]
  },
  {
   "cell_type": "code",
   "execution_count": 2,
   "id": "27c58acd",
   "metadata": {},
   "outputs": [
    {
     "data": {
      "text/plain": [
       "{0: 'This is blog 0',\n",
       " 1: 'This is blog 1',\n",
       " 2: 'This is blog 2',\n",
       " 3: 'This is blog 3',\n",
       " 4: 'This is blog 4',\n",
       " 5: 'This is blog 5',\n",
       " 6: 'This is blog 6',\n",
       " 7: 'This is blog 7',\n",
       " 8: 'This is blog 8',\n",
       " 9: 'This is blog 9'}"
      ]
     },
     "execution_count": 2,
     "metadata": {},
     "output_type": "execute_result"
    }
   ],
   "source": [
    "data"
   ]
  },
  {
   "cell_type": "code",
   "execution_count": null,
   "id": "54d1c63b",
   "metadata": {},
   "outputs": [],
   "source": []
  }
 ],
 "metadata": {
  "kernelspec": {
   "display_name": "myenv",
   "language": "python",
   "name": "python3"
  },
  "language_info": {
   "codemirror_mode": {
    "name": "ipython",
    "version": 3
   },
   "file_extension": ".py",
   "mimetype": "text/x-python",
   "name": "python",
   "nbconvert_exporter": "python",
   "pygments_lexer": "ipython3",
   "version": "3.12.3"
  }
 },
 "nbformat": 4,
 "nbformat_minor": 5
}
