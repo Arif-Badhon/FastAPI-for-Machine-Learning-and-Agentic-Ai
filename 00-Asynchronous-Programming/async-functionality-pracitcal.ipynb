{
 "cells": [
  {
   "cell_type": "markdown",
   "id": "fdb472c1",
   "metadata": {},
   "source": [
    "## **Async Functionality in Python**\n",
    "\n",
    "### we wat to have coffee and bagel in the morning after waking up\n",
    "\n",
    "## ***Synchronous or Normal Version of Code***"
   ]
  },
  {
   "cell_type": "code",
   "execution_count": 1,
   "id": "52474e65",
   "metadata": {},
   "outputs": [
    {
     "name": "stdout",
     "output_type": "stream",
     "text": [
      "Brewing Coffee\n",
      "Toasting Bagel\n",
      "Coffee is Ready. Bagel Ready. Time: 5.00 Minutes\n"
     ]
    }
   ],
   "source": [
    "import time\n",
    "def brew_coffee():\n",
    "    print(\"Brewing Coffee\")\n",
    "    time.sleep(3) #assume 3 min\n",
    "    return \"Coffee is Ready.\"\n",
    "\n",
    "def tost_bagel():\n",
    "    print(\"Toasting Bagel\")\n",
    "    time.sleep(2) # assume 2 min to take prepare the tost\n",
    "    return \"Bagel Ready.\"\n",
    "    \n",
    "start = time.time()\n",
    "coffee = brew_coffee()\n",
    "bagel = tost_bagel()\n",
    "end = time.time()\n",
    "\n",
    "print(coffee, bagel, f\"Time: {end - start:.2f} Minutes\")"
   ]
  },
  {
   "cell_type": "markdown",
   "id": "d3bc3315",
   "metadata": {},
   "source": [
    "## **Asynchronous Version**"
   ]
  },
  {
   "cell_type": "code",
   "execution_count": 5,
   "id": "f887ed00",
   "metadata": {},
   "outputs": [
    {
     "name": "stdout",
     "output_type": "stream",
     "text": [
      "Brewing Coffee\n",
      "Toasting Bagel\n",
      "Bagel Ready.\n",
      "Coffee is Ready.\n",
      "Time: 3.01 Minutes\n"
     ]
    }
   ],
   "source": [
    "import asyncio\n",
    "import time\n",
    "\n",
    "async def brew_coffee():\n",
    "    print(\"Brewing Coffee\")\n",
    "    await asyncio.sleep(3)  # assume 3 min\n",
    "    print(\"Coffee is Ready.\")\n",
    "\n",
    "async def tost_bagel():\n",
    "    print(\"Toasting Bagel\")\n",
    "    await asyncio.sleep(2)  # assume 2 min to take prepare the tost\n",
    "    print(\"Bagel Ready.\")   \n",
    "\n",
    "async def main():\n",
    "    \n",
    "    start = time.time()\n",
    "    \n",
    "    coffee = brew_coffee()\n",
    "    bagel = tost_bagel()\n",
    "    \n",
    "    result = await asyncio.gather(coffee, bagel)\n",
    "    \n",
    "    end = time.time()\n",
    "    print(f\"Time: {end - start:.2f} Minutes\")\n",
    "    \n",
    "    \n",
    "\n",
    "if __name__ == (\"__main__\"):\n",
    "    await main()"
   ]
  },
  {
   "cell_type": "code",
   "execution_count": null,
   "id": "06e29688",
   "metadata": {},
   "outputs": [],
   "source": []
  }
 ],
 "metadata": {
  "kernelspec": {
   "display_name": "myenv",
   "language": "python",
   "name": "python3"
  },
  "language_info": {
   "codemirror_mode": {
    "name": "ipython",
    "version": 3
   },
   "file_extension": ".py",
   "mimetype": "text/x-python",
   "name": "python",
   "nbconvert_exporter": "python",
   "pygments_lexer": "ipython3",
   "version": "3.12.3"
  }
 },
 "nbformat": 4,
 "nbformat_minor": 5
}
